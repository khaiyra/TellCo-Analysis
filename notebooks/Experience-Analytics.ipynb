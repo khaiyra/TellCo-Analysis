{
 "cells": [
  {
   "cell_type": "code",
   "execution_count": 2,
   "metadata": {},
   "outputs": [],
   "source": [
    "# library imports\n",
    "import pandas as pd\n",
    "import numpy as np\n",
    "import matplotlib.pyplot as plt\n",
    "%matplotlib inline\n",
    "from sklearn.cluster import KMeans"
   ]
  },
  {
   "cell_type": "code",
   "execution_count": 4,
   "metadata": {},
   "outputs": [],
   "source": [
    "# import data\n",
    "df = pd.read_csv('../data/tellco_data.csv')"
   ]
  },
  {
   "cell_type": "markdown",
   "metadata": {},
   "source": []
  },
  {
   "cell_type": "code",
   "execution_count": null,
   "metadata": {},
   "outputs": [],
   "source": [
    "class DataInfo:\n",
    "    def __init__(self, df: pd.DataFrame):\n",
    "        self.df = df\n",
    "\n",
    "         def fix_outlier_columns(self, columns: list):\n",
    "        try:\n",
    "            for column in columns:\n",
    "                self.df[column] = np.where(self.df[column] > self.df[column].quantile(\n",
    "                    0.95), self.df[column].median(), self.df[column])\n",
    "        except:\n",
    "            print(\"Cant fix outliers for each column\")\n",
    "\n",
    "        return self.df\n",
    "    \n",
    "    \n",
    "def get_mode(self):\n",
    "        mode = self.df.mode()\n",
    "        actual_mode = mode.iloc[0, :]\n",
    "        actual_mode.name = 'Mode'\n",
    "        return actual_mode\n",
    "    \n",
    "def get_min_max_of_column(self, col, range=1):\n",
    "        sortedVal = np.sort(self.df[col].unique())\n",
    "        top_df = pd.DataFrame(sortedVal[::-1][:range], columns=['Max Value/s'])\n",
    "        bottom_df = pd.DataFrame(sortedVal[:range], columns=['Min Value/s'])\n",
    "        info_df = pd.concat([top_df, bottom_df], axis=1)\n",
    "        return info_df\n",
    "    \n",
    "def standardize_column(self, column: str) -> pd.DataFrame:\n",
    "        try:\n",
    "            std_column_df = pd.DataFrame(self.df[column])\n",
    "            std_column_values = std_column_df.values\n",
    "            standardizer = StandardScaler()\n",
    "            normalized_data = standardizer.fit_transform(std_column_values)\n",
    "            self.df[column] = normalized_data\n",
    "\n",
    "            return self.df\n",
    "        except:\n",
    "            print(\"Failed to standardize the column\")"
   ]
  }
 ],
 "metadata": {
  "kernelspec": {
   "display_name": "Python 3",
   "language": "python",
   "name": "python3"
  },
  "language_info": {
   "codemirror_mode": {
    "name": "ipython",
    "version": 3
   },
   "file_extension": ".py",
   "mimetype": "text/x-python",
   "name": "python",
   "nbconvert_exporter": "python",
   "pygments_lexer": "ipython3",
   "version": "3.8.5"
  }
 },
 "nbformat": 4,
 "nbformat_minor": 4
}
